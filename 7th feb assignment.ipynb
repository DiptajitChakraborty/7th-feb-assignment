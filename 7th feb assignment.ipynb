{
 "cells": [
  {
   "cell_type": "code",
   "execution_count": 81,
   "id": "561231ed-f7c9-48b8-973b-960183b526bc",
   "metadata": {},
   "outputs": [],
   "source": [
    "#Q1\n",
    "def test():\n",
    "    p = input(\"Enter the password\")\n",
    "    l_count = 0\n",
    "    u_count = 0\n",
    "    special_char = 0\n",
    "    digit = 0\n",
    "    for i in range (len(p)):\n",
    "        if (p[i].islower()):\n",
    "            l_count+=1\n",
    "        elif (p[i].isupper()):\n",
    "            u_count+=1\n",
    "        if(p[i].isalpha()):\n",
    "            continue\n",
    "        elif(p[i].isdigit()):\n",
    "            digit+=1\n",
    "        else:\n",
    "            special_char+=1\n",
    "    if((len(p))==10 and  l_count>=2 and  u_count>=2 and  digit>=1 and  special_char>=3):\n",
    "        return(\"Valid Password\")\n",
    "    else:\n",
    "        return(\"Invalid Password\")\n",
    "            "
   ]
  },
  {
   "cell_type": "code",
   "execution_count": 82,
   "id": "7648f7b2-8e4c-4fd8-9739-c63a5418db98",
   "metadata": {},
   "outputs": [
    {
     "name": "stdin",
     "output_type": "stream",
     "text": [
      "Enter the password DIPta!@#$7\n"
     ]
    },
    {
     "data": {
      "text/plain": [
       "'Valid Password'"
      ]
     },
     "execution_count": 82,
     "metadata": {},
     "output_type": "execute_result"
    }
   ],
   "source": [
    "test()"
   ]
  },
  {
   "cell_type": "code",
   "execution_count": 83,
   "id": "5ad9d88a-81fd-43aa-ad8e-75c5cbd4e2f3",
   "metadata": {},
   "outputs": [
    {
     "name": "stdout",
     "output_type": "stream",
     "text": [
      "True\n"
     ]
    }
   ],
   "source": [
    "#Q2>\n",
    "\n",
    "\n",
    "starts_with = lambda x: True if x.startswith('G') else False\n",
    "print(starts_with(\"Good night\"))\n"
   ]
  },
  {
   "cell_type": "code",
   "execution_count": 84,
   "id": "fbd923a8-19ae-460f-b8c3-423decc2221f",
   "metadata": {},
   "outputs": [
    {
     "name": "stdout",
     "output_type": "stream",
     "text": [
      "True\n"
     ]
    }
   ],
   "source": [
    "is_num = lambda q: q.isdigit()\n",
    "print(is_num('75'))"
   ]
  },
  {
   "cell_type": "code",
   "execution_count": 85,
   "id": "c5f856d9-02a9-4197-bfaa-0f6098800d9f",
   "metadata": {},
   "outputs": [],
   "source": [
    "l = [(\"mango\",99),(\"orange\",80),(\"grapes\",1000)]\n",
    "l.sort(key = lambda x: x[0])"
   ]
  },
  {
   "cell_type": "code",
   "execution_count": 86,
   "id": "583e3372-a08d-4721-9403-41e18b622cda",
   "metadata": {},
   "outputs": [
    {
     "data": {
      "text/plain": [
       "[('grapes', 1000), ('mango', 99), ('orange', 80)]"
      ]
     },
     "execution_count": 86,
     "metadata": {},
     "output_type": "execute_result"
    }
   ],
   "source": [
    "l"
   ]
  },
  {
   "cell_type": "code",
   "execution_count": 87,
   "id": "b21a8d37-9bc6-4daf-83e2-4a85d58c4f63",
   "metadata": {},
   "outputs": [
    {
     "data": {
      "text/plain": [
       "[0, 1, 4, 9, 16, 25, 36, 49, 64, 81, 100]"
      ]
     },
     "execution_count": 87,
     "metadata": {},
     "output_type": "execute_result"
    }
   ],
   "source": [
    "l = list(range(11))\n",
    "[i**2 for i in l]"
   ]
  },
  {
   "cell_type": "code",
   "execution_count": 88,
   "id": "59a6fa4c-71da-4e40-a3cc-b48efdef14e7",
   "metadata": {},
   "outputs": [
    {
     "data": {
      "text/plain": [
       "[0.0,\n",
       " 0.3333333333333333,\n",
       " 0.6666666666666666,\n",
       " 1.0,\n",
       " 1.3333333333333333,\n",
       " 1.6666666666666667,\n",
       " 2.0,\n",
       " 2.3333333333333335,\n",
       " 2.6666666666666665,\n",
       " 3.0,\n",
       " 3.3333333333333335]"
      ]
     },
     "execution_count": 88,
     "metadata": {},
     "output_type": "execute_result"
    }
   ],
   "source": [
    "l = list(range(11))\n",
    "[i**1/3 for i in l]"
   ]
  },
  {
   "cell_type": "code",
   "execution_count": 89,
   "id": "9c079a6e-f122-4f50-81b9-95fcd5ee515f",
   "metadata": {},
   "outputs": [
    {
     "name": "stdout",
     "output_type": "stream",
     "text": [
      "False\n"
     ]
    }
   ],
   "source": [
    "is_even = lambda n :True if n%2==0 else False\n",
    "print(is_even(17))\n"
   ]
  },
  {
   "cell_type": "code",
   "execution_count": 76,
   "id": "5bfb37c3-dac7-42cd-a540-15127e201abd",
   "metadata": {},
   "outputs": [
    {
     "data": {
      "text/plain": [
       "[2, 4, 6, 8, 10]"
      ]
     },
     "execution_count": 76,
     "metadata": {},
     "output_type": "execute_result"
    }
   ],
   "source": [
    "l = [1,2,3,4,5,6,7,8,9,10]\n",
    "list(filter(lambda x :x%2==0 ,l))"
   ]
  },
  {
   "cell_type": "code",
   "execution_count": 78,
   "id": "afef4045-702b-4daf-98e8-1caad3216693",
   "metadata": {},
   "outputs": [],
   "source": [
    "l = [1,2,3,4,5,6,-1,-2,-3,-4,-5,0]\n",
    "l_positive = list(filter(lambda x :x>0,l))                   \n",
    "l_negative = list(filter(lambda x :x<0,l))"
   ]
  },
  {
   "cell_type": "code",
   "execution_count": 79,
   "id": "78a2fe48-046a-4b89-8c65-3642b85c30f8",
   "metadata": {},
   "outputs": [
    {
     "data": {
      "text/plain": [
       "[1, 2, 3, 4, 5, 6]"
      ]
     },
     "execution_count": 79,
     "metadata": {},
     "output_type": "execute_result"
    }
   ],
   "source": [
    "l_positive"
   ]
  },
  {
   "cell_type": "code",
   "execution_count": 80,
   "id": "3663caaa-6c8b-41ab-8297-a5fee6ae15a0",
   "metadata": {},
   "outputs": [
    {
     "data": {
      "text/plain": [
       "[-1, -2, -3, -4, -5]"
      ]
     },
     "execution_count": 80,
     "metadata": {},
     "output_type": "execute_result"
    }
   ],
   "source": [
    "l_negative"
   ]
  },
  {
   "cell_type": "code",
   "execution_count": null,
   "id": "8b2d8b98-59dd-4347-8778-65e919474a63",
   "metadata": {},
   "outputs": [],
   "source": []
  }
 ],
 "metadata": {
  "kernelspec": {
   "display_name": "Python 3 (ipykernel)",
   "language": "python",
   "name": "python3"
  },
  "language_info": {
   "codemirror_mode": {
    "name": "ipython",
    "version": 3
   },
   "file_extension": ".py",
   "mimetype": "text/x-python",
   "name": "python",
   "nbconvert_exporter": "python",
   "pygments_lexer": "ipython3",
   "version": "3.10.8"
  }
 },
 "nbformat": 4,
 "nbformat_minor": 5
}
